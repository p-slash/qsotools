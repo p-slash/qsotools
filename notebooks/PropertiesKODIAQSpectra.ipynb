{
 "cells": [
  {
   "cell_type": "code",
   "execution_count": 1,
   "metadata": {},
   "outputs": [],
   "source": [
    "import numpy as np\n",
    "from astropy.io import ascii\n",
    "import matplotlib.pyplot as plt\n",
    "\n",
    "import qsotools.fiducial as fid\n",
    "import qsotools.specops as so\n",
    "import qsotools.io.kodiaq as kod"
   ]
  },
  {
   "cell_type": "code",
   "execution_count": 2,
   "metadata": {},
   "outputs": [
    {
     "data": {
      "image/png": "[encoded data removed]",
      "text/plain": [
       "<Figure size 432x288 with 1 Axes>"
      ]
     },
     "metadata": {},
     "output_type": "display_data"
    }
   ],
   "source": [
    "# Plot R/dv ratio for all observations\n",
    "kmt = ascii.read(\"../tables/master_kodiaq_table.tsv\")\n",
    "kmt['Rkms'] = fid.LIGHT_SPEED / kmt['SPECRES'] / fid.ONE_SIGMA_2_FWHM\n",
    "\n",
    "plt.plot(kmt['Rkms']/kmt['dv'], 'o')\n",
    "plt.ylabel(\"R/dv\")\n",
    "plt.show()"
   ]
  },
  {
   "cell_type": "code",
   "execution_count": 3,
   "metadata": {},
   "outputs": [
    {
     "name": "stderr",
     "output_type": "stream",
     "text": [
      "WARNING: VerifyWarning: Invalid 'BLANK' keyword in header.  The 'BLANK' keyword is only applicable to integer data, and will be ignored in this HDU. [astropy.io.fits.hdu.image]\n"
     ]
    }
   ],
   "source": [
    "# Find the spectra that have the max s/n in Lya forest\n",
    "spec_list = kod.getKODIAQLyaMaxS2NObsList(\"/Users/nk452/repos/data/KODIAQ_Data/KODIAQ_DR2_20170619/\", \\\n",
    "                                          \"../tables/kodiaq_asu.tsv\")"
   ]
  },
  {
   "cell_type": "code",
   "execution_count": 5,
   "metadata": {},
   "outputs": [],
   "source": [
    "# Get histograms of Lya forest pixel statistics such as redshift distribution, mean flux and error.\n",
    "z1 = 1.5\n",
    "nz = 21\n",
    "dz = 0.2\n",
    "\n",
    "redshifts      = z1 + dz * np.arange(nz)\n",
    "redshift_edges = z1 + dz * (np.arange(nz+1)-0.5)\n",
    "\n",
    "total_flux = np.zeros(nz)\n",
    "total_error = np.zeros(nz)\n",
    "counts = np.zeros(nz+2)\n",
    "z_hist = np.zeros(nz)\n",
    "\n",
    "for sp in spec_list:\n",
    "    lyman_alpha_ind = np.logical_and(sp.wave >= fid.LYA_FIRST_WVL * (1+sp.z_qso), \\\n",
    "                                     sp.wave <= fid.LYA_LAST_WVL  * (1+sp.z_qso))\n",
    "\n",
    "    zi, fi, ei, ci = so.getStats(sp.wave[lyman_alpha_ind], sp.flux[lyman_alpha_ind], \\\n",
    "                                 sp.error[lyman_alpha_ind], redshift_edges)\n",
    "    \n",
    "    z_hist += zi\n",
    "    total_flux += fi\n",
    "    total_error += ei\n",
    "    counts += ci"
   ]
  },
  {
   "cell_type": "code",
   "execution_count": 7,
   "metadata": {},
   "outputs": [
    {
     "data": {
      "text/plain": [
       "Text(0.5,1,'Histogram of Pixel Redshifts')"
      ]
     },
     "execution_count": 7,
     "metadata": {},
     "output_type": "execute_result"
    },
    {
     "data": {
      "image/png": "[encoded data removed]",
      "text/plain": [
       "<Figure size 432x288 with 1 Axes>"
      ]
     },
     "metadata": {},
     "output_type": "display_data"
    }
   ],
   "source": [
    "# Plot histogram of pixel redshifts\n",
    "plt.bar(redshifts, z_hist,align='center', width=dz*0.7, linewidth=1, ec='black', alpha=0.7)\n",
    "plt.grid(True, which='major', alpha=0.3)\n",
    "plt.xlabel(r'$z$')\n",
    "plt.ylabel('Count')\n",
    "plt.ticklabel_format(style='sci', axis='y', scilimits=(0,0))\n",
    "plt.title('Histogram of Pixel Redshifts')"
   ]
  },
  {
   "cell_type": "code",
   "execution_count": 10,
   "metadata": {},
   "outputs": [
    {
     "name": "stderr",
     "output_type": "stream",
     "text": [
      "/Users/nk452/anaconda3/lib/python3.6/site-packages/ipykernel_launcher.py:1: RuntimeWarning: invalid value encountered in true_divide\n",
      "  \"\"\"Entry point for launching an IPython kernel.\n",
      "/Users/nk452/anaconda3/lib/python3.6/site-packages/ipykernel_launcher.py:2: RuntimeWarning: invalid value encountered in true_divide\n",
      "  \n"
     ]
    },
    {
     "data": {
      "text/plain": [
       "(0, 1)"
      ]
     },
     "execution_count": 10,
     "metadata": {},
     "output_type": "execute_result"
    },
    {
     "data": {
      "image/png": "[encoded data removed]",
      "text/plain": [
       "<Figure size 432x288 with 1 Axes>"
      ]
     },
     "metadata": {},
     "output_type": "display_data"
    }
   ],
   "source": [
    "# Plot mean flux and mean error wrt redshift\n",
    "mean_flux = total_flux / counts[1:-1]\n",
    "mean_error = total_error / counts[1:-1]\n",
    "\n",
    "plt.plot(redshifts, mean_flux, \"bo\", label=r\"$\\bar F(z)$\")\n",
    "plt.plot(redshifts, mean_error, \"rv\", label=r\"$\\bar e(z)$\")\n",
    "plt.grid(True, which='major', alpha=0.3)\n",
    "plt.legend()\n",
    "plt.xlabel(r'$z$')\n",
    "plt.ylim(0,1)"
   ]
  },
  {
   "cell_type": "code",
   "execution_count": null,
   "metadata": {},
   "outputs": [],
   "source": []
  }
 ],
 "metadata": {
  "kernelspec": {
   "display_name": "Python 3",
   "language": "python",
   "name": "python3"
  },
  "language_info": {
   "codemirror_mode": {
    "name": "ipython",
    "version": 3
   },
   "file_extension": ".py",
   "mimetype": "text/x-python",
   "name": "python",
   "nbconvert_exporter": "python",
   "pygments_lexer": "ipython3",
   "version": "3.6.5"
  }
 },
 "nbformat": 4,
 "nbformat_minor": 2
}
