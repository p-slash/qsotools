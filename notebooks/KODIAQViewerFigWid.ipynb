{
 "cells": [
  {
   "cell_type": "code",
   "execution_count": null,
   "metadata": {},
   "outputs": [],
   "source": [
    "from IPython.core.display import display, HTML\n",
    "display(HTML(\"<style>.container { width:100% !important; }</style>\"))"
   ]
  },
  {
   "cell_type": "code",
   "execution_count": null,
   "metadata": {},
   "outputs": [],
   "source": [
    "import qsotools.io.kodiaqviewer as kv"
   ]
  },
  {
   "cell_type": "code",
   "execution_count": null,
   "metadata": {},
   "outputs": [],
   "source": [
    "DIR_KODIAQ = \"/Users/nk452/repos/data/KODIAQ_Data/KODIAQ_DR2_20170619\"\n",
    "PATH_ASU   = \"../tables/kodiaq_asu.tsv\"\n",
    "LYA_FIRST = 1050.\n",
    "LYA_LAST  = 1180.\n",
    "\n",
    "kv1 = kv.KODIAQViewer(DIR_KODIAQ, PATH_ASU, LYA_FIRST, LYA_LAST)"
   ]
  },
  {
   "cell_type": "code",
   "execution_count": null,
   "metadata": {
    "scrolled": false
   },
   "outputs": [],
   "source": [
    "kv1.show_all()"
   ]
  },
  {
   "cell_type": "code",
   "execution_count": null,
   "metadata": {},
   "outputs": [],
   "source": []
  }
 ],
 "metadata": {
  "kernelspec": {
   "display_name": "Python 3",
   "language": "python",
   "name": "python3"
  },
  "language_info": {
   "codemirror_mode": {
    "name": "ipython",
    "version": 3
   },
   "file_extension": ".py",
   "mimetype": "text/x-python",
   "name": "python",
   "nbconvert_exporter": "python",
   "pygments_lexer": "ipython3",
   "version": "3.6.5"
  },
  "widgets": {
   "application/vnd.jupyter.widget-state+json": {
    "state": {
     "06f8ed3c4ef14898b84e91af448c4129": {
      "model_module": "@jupyter-widgets/controls",
      "model_module_version": "1.2.0",
      "model_name": "LabelModel",
      "state": {
       "layout": "IPY_MODEL_520b4bb3695a4fce91399f02055ae8fc",
       "style": "IPY_MODEL_dbd2d194b22b44c18f7f8327e607c12b",
       "value": "z:"
      }
     },
     "078c1f10b2c24e59bc35cd9af52e6929": {
      "model_module": "@jupyter-widgets/controls",
      "model_module_version": "1.2.0",
      "model_name": "ButtonStyleModel",
      "state": {}
     },
     "0dba5ebceb2e46dbba6f460dc2c7586e": {
      "model_module": "@jupyter-widgets/controls",
      "model_module_version": "1.2.0",
      "model_name": "LabelModel",
      "state": {
       "layout": "IPY_MODEL_7dc4d2c74b2c48f2bc68d0a5eb4bf1eb",
       "style": "IPY_MODEL_8d9a200cc7f54d72bad48aa4682d1997"
      }
     },
     "1aed19c0b8bd4f6f837ba23b5c3f0aad": {
      "model_module": "@jupyter-widgets/controls",
      "model_module_version": "1.2.0",
      "model_name": "ButtonModel",
      "state": {
       "description": "Jump",
       "layout": "IPY_MODEL_949a30f4d87642dc8417d9d6ba5d9728",
       "style": "IPY_MODEL_50c1de2afc2547d6813d562396876a8b",
       "tooltip": "Jump Range"
      }
     },
     "1b83fad7d08a4077982150ee58459ce5": {
      "model_module": "@jupyter-widgets/controls",
      "model_module_version": "1.2.0",
      "model_name": "VBoxModel",
      "state": {
       "children": [
        "IPY_MODEL_9c4d23f18b854640aa253aab4891afc5",
        "IPY_MODEL_2c77e7093ccf45308ab25ac7daf14c1a"
       ],
       "layout": "IPY_MODEL_acf942e04fdc41ab9b957f1d6506781a"
      }
     },
     "243312b01d234d77b26f0c1f16df8641": {
      "model_module": "@jupyter-widgets/controls",
      "model_module_version": "1.2.0",
      "model_name": "SelectModel",
      "state": {
       "_options_labels": [
        "Wolfe_Sep_29_30_1997"
       ],
       "description": "Obs:",
       "index": 0,
       "layout": "IPY_MODEL_6363723830fb4c1097f0bd060700dfba",
       "rows": 10,
       "style": "IPY_MODEL_59d9a8372a2f4683baf73681998a6e61"
      }
     },
     "294a09842f094604bd5f8cab4b86e841": {
      "model_module": "@jupyter-widgets/base",
      "model_module_version": "1.0.0",
      "model_name": "LayoutModel",
      "state": {}
     },
     "2c77e7093ccf45308ab25ac7daf14c1a": {
      "model_module": "plotlywidget",
      "model_module_version": "^0.5.2",
      "model_name": "FigureModel",
      "state": {
       "_config": {
        "plotlyServerURL": "https://plot.ly"
       },
       "_data": [
        {
         "line": {
          "color": "rgb(0, 0, 255)"
         },
         "marker": {
          "color": "#0000ff",
          "size": 1
         },
         "mode": "lines+markers",
         "name": "f",
         "showlegend": true,
         "type": "scattergl",
         "uid": "c576abe0-567f-4384-b4b2-8d392f9e56eb",
         "x": [],
         "y": []
        },
        {
         "line": {
          "color": "rgb(255, 0, 0)"
         },
         "marker": {
          "color": "#ff0000",
          "size": 1
         },
         "mode": "lines+markers",
         "name": "1-e",
         "showlegend": true,
         "type": "scattergl",
         "uid": "b0da44c6-dd95-4666-9a6e-4db6aef08170",
         "x": [],
         "y": []
        }
       ],
       "_js2py_pointsCallback": {},
       "_js2py_restyle": {},
       "_js2py_update": {},
       "_last_layout_edit_id": 2,
       "_last_trace_edit_id": 1,
       "_layout": {
        "autosize": true,
        "dragmode": "pan",
        "shapes": [
         {
          "line": {
           "color": "rgb(128, 0, 128)",
           "width": 5
          },
          "type": "line",
          "x0": 1,
          "x1": 1,
          "y0": -0.5,
          "y1": 1.5
         },
         {
          "fillcolor": "#006400",
          "line": {
           "width": 0
          },
          "opacity": 0.3,
          "type": "rect",
          "x0": 1,
          "x1": 1,
          "xref": "x",
          "y0": -0.5,
          "y1": 1.5
         }
        ],
        "template": {},
        "title": "",
        "xaxis": {
         "range": [
          2,
          5
         ]
        },
        "yaxis": {
         "range": [
          -0.5,
          1.5
         ]
        }
       },
       "_py2js_addTraces": {},
       "_py2js_animate": {},
       "_py2js_deleteTraces": {},
       "_py2js_moveTraces": {},
       "_py2js_removeLayoutProps": {},
       "_py2js_removeTraceProps": {},
       "_py2js_restyle": {},
       "_view_count": 1
      }
     },
     "310642c849af48c4be683969ec8d962a": {
      "model_module": "@jupyter-widgets/base",
      "model_module_version": "1.0.0",
      "model_name": "LayoutModel",
      "state": {}
     },
     "4e7b6cd5c74646a197d419b1fb897d20": {
      "model_module": "@jupyter-widgets/base",
      "model_module_version": "1.0.0",
      "model_name": "LayoutModel",
      "state": {}
     },
     "50c1de2afc2547d6813d562396876a8b": {
      "model_module": "@jupyter-widgets/controls",
      "model_module_version": "1.2.0",
      "model_name": "ButtonStyleModel",
      "state": {}
     },
     "520b4bb3695a4fce91399f02055ae8fc": {
      "model_module": "@jupyter-widgets/base",
      "model_module_version": "1.0.0",
      "model_name": "LayoutModel",
      "state": {}
     },
     "52bdf9da3f824c8c839b75f90f074310": {
      "model_module": "@jupyter-widgets/controls",
      "model_module_version": "1.2.0",
      "model_name": "ButtonModel",
      "state": {
       "description": "Plot",
       "layout": "IPY_MODEL_310642c849af48c4be683969ec8d962a",
       "style": "IPY_MODEL_536708cb181f485dbba6cc3563f058e9",
       "tooltip": "Plot"
      }
     },
     "536708cb181f485dbba6cc3563f058e9": {
      "model_module": "@jupyter-widgets/controls",
      "model_module_version": "1.2.0",
      "model_name": "ButtonStyleModel",
      "state": {}
     },
     "56943127dd8345a781fbcba9b8d92e98": {
      "model_module": "@jupyter-widgets/base",
      "model_module_version": "1.0.0",
      "model_name": "LayoutModel",
      "state": {}
     },
     "59d9a8372a2f4683baf73681998a6e61": {
      "model_module": "@jupyter-widgets/controls",
      "model_module_version": "1.2.0",
      "model_name": "DescriptionStyleModel",
      "state": {
       "description_width": ""
      }
     },
     "6363723830fb4c1097f0bd060700dfba": {
      "model_module": "@jupyter-widgets/base",
      "model_module_version": "1.0.0",
      "model_name": "LayoutModel",
      "state": {
       "width": "300px"
      }
     },
     "638d7e8cbf7641608f55564125ddd69d": {
      "model_module": "@jupyter-widgets/controls",
      "model_module_version": "1.2.0",
      "model_name": "DescriptionStyleModel",
      "state": {
       "description_width": ""
      }
     },
     "66815179e0274eeca9dfc389c4c7e4c6": {
      "model_module": "@jupyter-widgets/base",
      "model_module_version": "1.0.0",
      "model_name": "LayoutModel",
      "state": {}
     },
     "7191c7cd78a643e68e1cd90ad71d3750": {
      "model_module": "@jupyter-widgets/base",
      "model_module_version": "1.0.0",
      "model_name": "LayoutModel",
      "state": {}
     },
     "7dc4d2c74b2c48f2bc68d0a5eb4bf1eb": {
      "model_module": "@jupyter-widgets/base",
      "model_module_version": "1.0.0",
      "model_name": "LayoutModel",
      "state": {
       "width": "50px"
      }
     },
     "7e507bb37b8b46789cbd5613612d9be5": {
      "model_module": "@jupyter-widgets/base",
      "model_module_version": "1.0.0",
      "model_name": "LayoutModel",
      "state": {
       "width": "300px"
      }
     },
     "8643d4efa17449f6894d1c2542e96984": {
      "model_module": "@jupyter-widgets/controls",
      "model_module_version": "1.2.0",
      "model_name": "VBoxModel",
      "state": {
       "children": [
        "IPY_MODEL_f5cdb8a6859640cfa004bed1a476d893",
        "IPY_MODEL_abc06cf085d7442582489770cf107af2"
       ],
       "layout": "IPY_MODEL_ce16508c8b1c4210b327284116eafb56"
      }
     },
     "8a0fc10903a748b3994a2ad489f1e951": {
      "model_module": "@jupyter-widgets/controls",
      "model_module_version": "1.2.0",
      "model_name": "DescriptionStyleModel",
      "state": {
       "description_width": ""
      }
     },
     "8d9a200cc7f54d72bad48aa4682d1997": {
      "model_module": "@jupyter-widgets/controls",
      "model_module_version": "1.2.0",
      "model_name": "DescriptionStyleModel",
      "state": {
       "description_width": ""
      }
     },
     "8e1933ad161e40968be759b545c62209": {
      "model_module": "@jupyter-widgets/base",
      "model_module_version": "1.0.0",
      "model_name": "LayoutModel",
      "state": {}
     },
     "949a30f4d87642dc8417d9d6ba5d9728": {
      "model_module": "@jupyter-widgets/base",
      "model_module_version": "1.0.0",
      "model_name": "LayoutModel",
      "state": {}
     },
     "974d3d1c5c704c51882fb70dbd7736cb": {
      "model_module": "@jupyter-widgets/controls",
      "model_module_version": "1.2.0",
      "model_name": "ButtonStyleModel",
      "state": {}
     },
     "9a594d07efed477099f8fa6a63e716c5": {
      "model_module": "@jupyter-widgets/controls",
      "model_module_version": "1.2.0",
      "model_name": "VBoxModel",
      "state": {
       "children": [
        "IPY_MODEL_b1e14f4ca6824a69a4e7d76ae9f668fc",
        "IPY_MODEL_0dba5ebceb2e46dbba6f460dc2c7586e"
       ],
       "layout": "IPY_MODEL_4e7b6cd5c74646a197d419b1fb897d20"
      }
     },
     "9c4d23f18b854640aa253aab4891afc5": {
      "model_module": "@jupyter-widgets/controls",
      "model_module_version": "1.2.0",
      "model_name": "HBoxModel",
      "state": {
       "children": [
        "IPY_MODEL_e2f17b8950c64d60b367656391eb7618",
        "IPY_MODEL_243312b01d234d77b26f0c1f16df8641",
        "IPY_MODEL_c8e8a060a54047b28bf10f5340267f7c",
        "IPY_MODEL_cbff84efbcb940459bd7ccbfb7ce876b",
        "IPY_MODEL_8643d4efa17449f6894d1c2542e96984"
       ],
       "layout": "IPY_MODEL_d772781caa764d8f96a3ab240ea05615"
      }
     },
     "abc06cf085d7442582489770cf107af2": {
      "model_module": "@jupyter-widgets/controls",
      "model_module_version": "1.2.0",
      "model_name": "ButtonModel",
      "state": {
       "description": "Remove Mask",
       "layout": "IPY_MODEL_56943127dd8345a781fbcba9b8d92e98",
       "style": "IPY_MODEL_078c1f10b2c24e59bc35cd9af52e6929",
       "tooltip": "Remove Mask"
      }
     },
     "acf942e04fdc41ab9b957f1d6506781a": {
      "model_module": "@jupyter-widgets/base",
      "model_module_version": "1.0.0",
      "model_name": "LayoutModel",
      "state": {}
     },
     "b0c4ab87ba924aecb5af7ff2e1ea108f": {
      "model_module": "@jupyter-widgets/controls",
      "model_module_version": "1.2.0",
      "model_name": "DescriptionStyleModel",
      "state": {
       "description_width": ""
      }
     },
     "b1e14f4ca6824a69a4e7d76ae9f668fc": {
      "model_module": "@jupyter-widgets/controls",
      "model_module_version": "1.2.0",
      "model_name": "LabelModel",
      "state": {
       "layout": "IPY_MODEL_7dc4d2c74b2c48f2bc68d0a5eb4bf1eb",
       "style": "IPY_MODEL_c70a9667a5324d43835fae10283e57f1"
      }
     },
     "b679b7f3a99441868ffacf3d2c683280": {
      "model_module": "@jupyter-widgets/base",
      "model_module_version": "1.0.0",
      "model_name": "LayoutModel",
      "state": {}
     },
     "bc7d663fec264dfc8ba90dc8e782e256": {
      "model_module": "@jupyter-widgets/controls",
      "model_module_version": "1.2.0",
      "model_name": "ButtonStyleModel",
      "state": {}
     },
     "c4329d56fe474ae69f390555f7fcfc12": {
      "model_module": "@jupyter-widgets/controls",
      "model_module_version": "1.2.0",
      "model_name": "VBoxModel",
      "state": {
       "children": [
        "IPY_MODEL_06f8ed3c4ef14898b84e91af448c4129",
        "IPY_MODEL_eb4b9f35a68b4ee6bfd25720fb255d01"
       ],
       "layout": "IPY_MODEL_7191c7cd78a643e68e1cd90ad71d3750"
      }
     },
     "c70a9667a5324d43835fae10283e57f1": {
      "model_module": "@jupyter-widgets/controls",
      "model_module_version": "1.2.0",
      "model_name": "DescriptionStyleModel",
      "state": {
       "description_width": ""
      }
     },
     "c8e8a060a54047b28bf10f5340267f7c": {
      "model_module": "@jupyter-widgets/controls",
      "model_module_version": "1.2.0",
      "model_name": "VBoxModel",
      "state": {
       "children": [
        "IPY_MODEL_f96aa8b944064e5caa9edacabfa30f35",
        "IPY_MODEL_52bdf9da3f824c8c839b75f90f074310",
        "IPY_MODEL_d940eea7c0004f99a42f916f611a73b9",
        "IPY_MODEL_1aed19c0b8bd4f6f837ba23b5c3f0aad"
       ],
       "layout": "IPY_MODEL_8e1933ad161e40968be759b545c62209"
      }
     },
     "cbff84efbcb940459bd7ccbfb7ce876b": {
      "model_module": "@jupyter-widgets/controls",
      "model_module_version": "1.2.0",
      "model_name": "SelectModel",
      "state": {
       "_options_labels": [
        ""
       ],
       "description": "Mask:",
       "index": 0,
       "layout": "IPY_MODEL_d135f3e067694f488ac28d3173458c23",
       "rows": 10,
       "style": "IPY_MODEL_8a0fc10903a748b3994a2ad489f1e951"
      }
     },
     "ce16508c8b1c4210b327284116eafb56": {
      "model_module": "@jupyter-widgets/base",
      "model_module_version": "1.0.0",
      "model_name": "LayoutModel",
      "state": {}
     },
     "d135f3e067694f488ac28d3173458c23": {
      "model_module": "@jupyter-widgets/base",
      "model_module_version": "1.0.0",
      "model_name": "LayoutModel",
      "state": {
       "width": "300px"
      }
     },
     "d772781caa764d8f96a3ab240ea05615": {
      "model_module": "@jupyter-widgets/base",
      "model_module_version": "1.0.0",
      "model_name": "LayoutModel",
      "state": {}
     },
     "d940eea7c0004f99a42f916f611a73b9": {
      "model_module": "@jupyter-widgets/controls",
      "model_module_version": "1.2.0",
      "model_name": "ButtonModel",
      "state": {
       "description": "Init Range",
       "layout": "IPY_MODEL_df9032c29f9e47daa220e950b842fba7",
       "style": "IPY_MODEL_974d3d1c5c704c51882fb70dbd7736cb",
       "tooltip": "Initial Range"
      }
     },
     "dbd2d194b22b44c18f7f8327e607c12b": {
      "model_module": "@jupyter-widgets/controls",
      "model_module_version": "1.2.0",
      "model_name": "DescriptionStyleModel",
      "state": {
       "description_width": ""
      }
     },
     "df9032c29f9e47daa220e950b842fba7": {
      "model_module": "@jupyter-widgets/base",
      "model_module_version": "1.0.0",
      "model_name": "LayoutModel",
      "state": {}
     },
     "e2f17b8950c64d60b367656391eb7618": {
      "model_module": "@jupyter-widgets/controls",
      "model_module_version": "1.2.0",
      "model_name": "SelectModel",
      "state": {
       "_options_labels": [
        "J000150-015940",
        "J000520+052410",
        "J000931+021707",
        "J001602-001224",
        "J001708+813508",
        "J002127-020333",
        "J002208-150539",
        "J002830-281704",
        "J002952+020606",
        "J003501-091817",
        "J004054-091526",
        "J004351-265128",
        "J004358-255115",
        "J004434-261121",
        "J004448+372114",
        "J004530-261709",
        "J005202+010129",
        "J005233+014040",
        "J005700+143737",
        "J005814+011530",
        "J010054+021136",
        "J010311+131617",
        "J010741-263328",
        "J010806+163550",
        "J010925-210257",
        "J011150+140141",
        "J012156+144823",
        "J012227-042127",
        "J013301-400628",
        "J013340+040059",
        "J013421+330756",
        "J013515-021349",
        "J014516-094517",
        "J014944+150106",
        "J015227-200107",
        "J015234+335033",
        "J015741-010629",
        "J020346+113445",
        "J020455+364917",
        "J020944+051714",
        "J020950-000506",
        "J021129+124110",
        "J021857+081727",
        "J022554+005451",
        "J022839-101110",
        "J022853-033737",
        "J023145+132254",
        "J023359+004938",
        "J023838+163659",
        "J023924-090138",
        "J024008-230915",
        "J024401-013403",
        "J024854+180249",
        "J025127+341442",
        "J025515+014828",
        "J025518+004847",
        "J025625-011911",
        "J025644+001246",
        "J025905+001121",
        "J030046+022245",
        "J030341-002321",
        "J030449-000813",
        "J030449-221151",
        "J031003-004645",
        "J032412-320259",
        "J033900-013318",
        "J034943-381031",
        "J035116+061914",
        "J040241-064124",
        "J042408+020424",
        "J042707-130253",
        "J043038-133546",
        "J045142-132033",
        "J045213-164012",
        "J045312-130546",
        "J045608-215909",
        "J050112-015914",
        "J053007-250329",
        "J055246-363727",
        "J064204+675835",
        "J064632+445116",
        "J073149+285448",
        "J074110+311200",
        "J074521+473436",
        "J074711+273903",
        "J074749+443417",
        "J074927+415242",
        "J075054+425219",
        "J080117+521034",
        "J080342+302254",
        "J080447+101523",
        "J080518+614423",
        "J081240+320808",
        "J081336+481302",
        "J081435+502946",
        "J081740+135134",
        "J082107+310751",
        "J082540+354414",
        "J082619+314848",
        "J082849+085854",
        "J083052+241059",
        "J083102+335803",
        "J083141+524517",
        "J083712+145917",
        "J083933+111207",
        "J084044+363327",
        "J084424+124548",
        "J084547+132858",
        "J085141+161221",
        "J090033+421546",
        "J092708+582319",
        "J092759+154321",
        "J092914+282529",
        "J093337+284532",
        "J093643+292713",
        "J093748+730158",
        "J093857+412821",
        "J094202+042244",
        "J095122+263513",
        "J095309+523029",
        "J095355-050418",
        "J095500-013000",
        "J095714+544017",
        "J095820+322402",
        "J095822+014524",
        "J095852+120245",
        "J100110+552834",
        "J100120+555355",
        "J100205+554257",
        "J100841+362319",
        "J101155+294141",
        "J101336+561536",
        "J101447+430030",
        "J101549+002019",
        "J101556-003504",
        "J101723-204658",
        "J101939+524627",
        "J102009+104002",
        "J102156+300140",
        "J102325+514251",
        "J102410+060013",
        "J103456+035859",
        "J103514+544040",
        "J104018+572448",
        "J104117+061016",
        "J104213+062853",
        "J104459+365605",
        "J105123+354534",
        "J105427+253600",
        "J105648+120826",
        "J105756+455553",
        "J110045+112239",
        "J110610+640009",
        "J110621+104432",
        "J111038+483115",
        "J111113-080402",
        "J111909+211917",
        "J112442-170517",
        "J113130+604420",
        "J113418+574204",
        "J113508+222715",
        "J114308+345222",
        "J115538+053050",
        "J115940-003203",
        "J115944+011207",
        "J120006+312630",
        "J120147+120630",
        "J120207+323538",
        "J120416+022111",
        "J120917+113830",
        "J121117+042222",
        "J121134+090220",
        "J121303+171423",
        "J121930+494052",
        "J122137+043026",
        "J122518+483116",
        "J122607+173649",
        "J122824+312837",
        "J123200-022404",
        "J123643-020420",
        "J123748+012606",
        "J124610+303117",
        "J124610+303131",
        "J124913-055918",
        "J124924-023339",
        "J125005+263107",
        "J130411+295348",
        "J130426+120245",
        "J130542+092427",
        "J130554+303252",
        "J131011+460124",
        "J131040+542449",
        "J131215+423900",
        "J131341+144140",
        "J131855+531207",
        "J133108+303032",
        "J133532+082404",
        "J134002+110630",
        "J134004+281653",
        "J134328+572147",
        "J134544+262506",
        "J134916-033715",
        "J135038-251216",
        "J135317+532825",
        "J135405+313902",
        "J140501+444800",
        "J141719+413237",
        "J141906+592312",
        "J142438+225600",
        "J142656+602550",
        "J143316+313126",
        "J143500+535953",
        "J143912+295448",
        "J143916-015627",
        "J144331+272436",
        "J144453+291905",
        "J144516+095836",
        "J145408+511443",
        "J145435+094100",
        "J150932+111313",
        "J151224+465233",
        "J152144+525449",
        "J152156+520238",
        "J154153+315329",
        "J155152+191104",
        "J155556+480015",
        "J155610+374039",
        "J155810-003120",
        "J155814+405337",
        "J155855+332318",
        "J160355+573054",
        "J160413+395121",
        "J160455+381201",
        "J160455+381214",
        "J160547+511330",
        "J160843+071508",
        "J161009+472444",
        "J162453+375806",
        "J162548+264433",
        "J162548+264658",
        "J162557+264448",
        "J162645+642655",
        "J162902+091322",
        "J163412+320335",
        "J164656+551446",
        "J170100+641209",
        "J170124+514920",
        "J170919+281835",
        "J171227+575507",
        "J171938+480412",
        "J173352+540030",
        "J175603+574848",
        "J175746+753916",
        "J182157+642036",
        "J185230+401906",
        "J193957-100241",
        "J194455+770552",
        "J200324-325145",
        "J203642-055300",
        "J204051-010538",
        "J210025-064146",
        "J211452+060742",
        "J212329-005052",
        "J212904-160249",
        "J212912-153841",
        "J213135-120704",
        "J215502+135826",
        "J220639-181846",
        "J220852-194400",
        "J221516-294423",
        "J221527-161132",
        "J221852-033536",
        "J222256-094636",
        "J222547-045701",
        "J223235+024755",
        "J223408+000001",
        "J223619+132620",
        "J223627+135714",
        "J223953-055219",
        "J224030+032130",
        "J224145+122557",
        "J225409+244523",
        "J230301-093930",
        "J230444+031145",
        "J231324+003444",
        "J231543+145606",
        "J233446-090812",
        "J233823+150445",
        "J234023-005327",
        "J234352+141014",
        "J234451+343348",
        "J234531+090906",
        "J234628+124859",
        "J234632+124540",
        "J234856-104131",
        "J235010+081255",
        "J235050+045507",
        "J235057-005209",
        "J235129-142756",
        "J235953-124148"
       ],
       "description": "QSO:",
       "index": 0,
       "layout": "IPY_MODEL_7e507bb37b8b46789cbd5613612d9be5",
       "rows": 10,
       "style": "IPY_MODEL_b0c4ab87ba924aecb5af7ff2e1ea108f"
      }
     },
     "eb4b9f35a68b4ee6bfd25720fb255d01": {
      "model_module": "@jupyter-widgets/controls",
      "model_module_version": "1.2.0",
      "model_name": "LabelModel",
      "state": {
       "layout": "IPY_MODEL_294a09842f094604bd5f8cab4b86e841",
       "style": "IPY_MODEL_638d7e8cbf7641608f55564125ddd69d",
       "value": "DR:"
      }
     },
     "f5cdb8a6859640cfa004bed1a476d893": {
      "model_module": "@jupyter-widgets/controls",
      "model_module_version": "1.2.0",
      "model_name": "ButtonModel",
      "state": {
       "description": "Save",
       "layout": "IPY_MODEL_b679b7f3a99441868ffacf3d2c683280",
       "style": "IPY_MODEL_bc7d663fec264dfc8ba90dc8e782e256",
       "tooltip": "Save"
      }
     },
     "f96aa8b944064e5caa9edacabfa30f35": {
      "model_module": "@jupyter-widgets/controls",
      "model_module_version": "1.2.0",
      "model_name": "HBoxModel",
      "state": {
       "children": [
        "IPY_MODEL_c4329d56fe474ae69f390555f7fcfc12",
        "IPY_MODEL_9a594d07efed477099f8fa6a63e716c5"
       ],
       "layout": "IPY_MODEL_66815179e0274eeca9dfc389c4c7e4c6"
      }
     }
    },
    "version_major": 2,
    "version_minor": 0
   }
  }
 },
 "nbformat": 4,
 "nbformat_minor": 2
}
